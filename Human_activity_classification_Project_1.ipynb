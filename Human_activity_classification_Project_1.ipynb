{
  "nbformat": 4,
  "nbformat_minor": 0,
  "metadata": {
    "colab": {
      "name": "Human activity classification - Project_1.ipynb",
      "provenance": [],
      "collapsed_sections": [],
      "authorship_tag": "ABX9TyOVYZz3/bdt0cOGKI40pWD/",
      "include_colab_link": true
    },
    "kernelspec": {
      "name": "python3",
      "display_name": "Python 3"
    },
    "language_info": {
      "name": "python"
    }
  },
  "cells": [
    {
      "cell_type": "markdown",
      "metadata": {
        "id": "view-in-github",
        "colab_type": "text"
      },
      "source": [
        "<a href=\"https://colab.research.google.com/github/EnocPinto/Google-Colab/blob/main/Human_activity_classification_Project_1.ipynb\" target=\"_parent\"><img src=\"https://colab.research.google.com/assets/colab-badge.svg\" alt=\"Open In Colab\"/></a>"
      ]
    },
    {
      "cell_type": "code",
      "metadata": {
        "id": "A4Or5gLoyt9y",
        "colab": {
          "base_uri": "https://localhost:8080/"
        },
        "outputId": "7a8c34f5-70d6-4bb1-f16d-e78e958ec736"
      },
      "source": [
        "#The dataset can be downloaded by using the following commands within a colab notebook\n",
        "# specify the data file name and url\n",
        "url = 'https://archive.ics.uci.edu/ml/machine-learning-databases/00240/'\n",
        "datafile = url + 'UCI%20HAR%20Dataset.zip'\n",
        "# download the zip file from the web server using curl\n",
        "!curl $datafile --output UCI_HAR_Dataset.zip\n",
        "# unzip the file\n",
        "!unzip -qq UCI_HAR_Dataset.zip\n",
        "# change the directory name to remove spaces\n",
        "!mv -f UCI\\ HAR\\ Dataset UCI_HAR_DATASET"
      ],
      "execution_count": 1,
      "outputs": [
        {
          "output_type": "stream",
          "name": "stdout",
          "text": [
            "  % Total    % Received % Xferd  Average Speed   Time    Time     Time  Current\n",
            "                                 Dload  Upload   Total   Spent    Left  Speed\n",
            "100 58.1M  100 58.1M    0     0  86.6M      0 --:--:-- --:--:-- --:--:-- 86.6M\n"
          ]
        }
      ]
    },
    {
      "cell_type": "code",
      "metadata": {
        "id": "6mN07B888Ooo"
      },
      "source": [
        "#Import libraries\n",
        "import pandas as pd\n",
        "import numpy as np\n",
        "import tensorflow as tf\n",
        "import seaborn as sns\n",
        "import matplotlib.pyplot as plt\n",
        "from IPython import display"
      ],
      "execution_count": 2,
      "outputs": []
    },
    {
      "cell_type": "markdown",
      "metadata": {
        "id": "2bQ3tLZOAC1q"
      },
      "source": [
        "**QUESTION 1**: Read the files and describe the dataset"
      ]
    },
    {
      "cell_type": "code",
      "metadata": {
        "id": "ac5ZG4_e_ONL",
        "colab": {
          "base_uri": "https://localhost:8080/"
        },
        "outputId": "5de7be05-9c23-4432-a266-392e9a9b4ac1"
      },
      "source": [
        "#Read \"activity_labels.txt\" file and print its content\n",
        "activity_labels = open(\"activity_labels.txt\", \"r\")\n",
        "activity_labels_conent = activity_labels.read()\n",
        "print(activity_labels_conent)"
      ],
      "execution_count": 3,
      "outputs": [
        {
          "output_type": "stream",
          "name": "stdout",
          "text": [
            "1 WALKING\n",
            "2 WALKING_UPSTAIRS\n",
            "3 WALKING_DOWNSTAIRS\n",
            "4 SITTING\n",
            "5 STANDING\n",
            "6 LAYING\n",
            "\n"
          ]
        }
      ]
    },
    {
      "cell_type": "code",
      "metadata": {
        "id": "ifypzPfp_h3q"
      },
      "source": [
        "#Read \"features.txt\" file and print its content\n",
        "features = open(\"features.txt\", \"r\")\n",
        "features_conent = features.read()\n",
        "#print(features_conent)"
      ],
      "execution_count": null,
      "outputs": []
    },
    {
      "cell_type": "code",
      "metadata": {
        "id": "kLOipHtr7DMc",
        "colab": {
          "base_uri": "https://localhost:8080/"
        },
        "outputId": "a7e74607-2b3b-4510-8940-a570695dcdff"
      },
      "source": [
        "#Read \"features_info.txt\" file and print its content\n",
        "features_info = open(\"features_info.txt\", \"r\")\n",
        "features_info_conent = features_info.read()\n",
        "print(features_info_conent) "
      ],
      "execution_count": 5,
      "outputs": [
        {
          "output_type": "stream",
          "name": "stdout",
          "text": [
            "Feature Selection \n",
            "=================\n",
            "\n",
            "The features selected for this database come from the accelerometer and gyroscope 3-axial raw signals tAcc-XYZ and tGyro-XYZ. These time domain signals (prefix 't' to denote time) were captured at a constant rate of 50 Hz. Then they were filtered using a median filter and a 3rd order low pass Butterworth filter with a corner frequency of 20 Hz to remove noise. Similarly, the acceleration signal was then separated into body and gravity acceleration signals (tBodyAcc-XYZ and tGravityAcc-XYZ) using another low pass Butterworth filter with a corner frequency of 0.3 Hz. \n",
            "\n",
            "Subsequently, the body linear acceleration and angular velocity were derived in time to obtain Jerk signals (tBodyAccJerk-XYZ and tBodyGyroJerk-XYZ). Also the magnitude of these three-dimensional signals were calculated using the Euclidean norm (tBodyAccMag, tGravityAccMag, tBodyAccJerkMag, tBodyGyroMag, tBodyGyroJerkMag). \n",
            "\n",
            "Finally a Fast Fourier Transform (FFT) was applied to some of these signals producing fBodyAcc-XYZ, fBodyAccJerk-XYZ, fBodyGyro-XYZ, fBodyAccJerkMag, fBodyGyroMag, fBodyGyroJerkMag. (Note the 'f' to indicate frequency domain signals). \n",
            "\n",
            "These signals were used to estimate variables of the feature vector for each pattern:  \n",
            "'-XYZ' is used to denote 3-axial signals in the X, Y and Z directions.\n",
            "\n",
            "tBodyAcc-XYZ\n",
            "tGravityAcc-XYZ\n",
            "tBodyAccJerk-XYZ\n",
            "tBodyGyro-XYZ\n",
            "tBodyGyroJerk-XYZ\n",
            "tBodyAccMag\n",
            "tGravityAccMag\n",
            "tBodyAccJerkMag\n",
            "tBodyGyroMag\n",
            "tBodyGyroJerkMag\n",
            "fBodyAcc-XYZ\n",
            "fBodyAccJerk-XYZ\n",
            "fBodyGyro-XYZ\n",
            "fBodyAccMag\n",
            "fBodyAccJerkMag\n",
            "fBodyGyroMag\n",
            "fBodyGyroJerkMag\n",
            "\n",
            "The set of variables that were estimated from these signals are: \n",
            "\n",
            "mean(): Mean value\n",
            "std(): Standard deviation\n",
            "mad(): Median absolute deviation \n",
            "max(): Largest value in array\n",
            "min(): Smallest value in array\n",
            "sma(): Signal magnitude area\n",
            "energy(): Energy measure. Sum of the squares divided by the number of values. \n",
            "iqr(): Interquartile range \n",
            "entropy(): Signal entropy\n",
            "arCoeff(): Autorregresion coefficients with Burg order equal to 4\n",
            "correlation(): correlation coefficient between two signals\n",
            "maxInds(): index of the frequency component with largest magnitude\n",
            "meanFreq(): Weighted average of the frequency components to obtain a mean frequency\n",
            "skewness(): skewness of the frequency domain signal \n",
            "kurtosis(): kurtosis of the frequency domain signal \n",
            "bandsEnergy(): Energy of a frequency interval within the 64 bins of the FFT of each window.\n",
            "angle(): Angle between to vectors.\n",
            "\n",
            "Additional vectors obtained by averaging the signals in a signal window sample. These are used on the angle() variable:\n",
            "\n",
            "gravityMean\n",
            "tBodyAccMean\n",
            "tBodyAccJerkMean\n",
            "tBodyGyroMean\n",
            "tBodyGyroJerkMean\n",
            "\n",
            "The complete list of variables of each feature vector is available in 'features.txt'\n",
            "\n"
          ]
        }
      ]
    },
    {
      "cell_type": "markdown",
      "metadata": {
        "id": "W7aHjZjFzXW8"
      },
      "source": [
        "The data given for this assignment contains information from 30 people performing different activities while carrying a smart phone of their waists. The aim of the data gathered from this 30 people is to try to predict if the person is walking, walking upstairs, walking downstairs, sitting, standing or laying. \n",
        "\n",
        "The data was recorded using the gyroscope and accelerometer of the smart phone, capturing '3-axial linear acceleration'(tAcc-XYZ) and '3-axial angular velocity' (tGyro-XYZ). \n",
        "\n",
        "For each of the records we have:\n",
        "-\tThe Triaxial acceleration and angular velocity. \n",
        "-\t561 features. \n",
        "-\tActivity label\n",
        "-\tAn identifier of the subject that participate in the experiment. \n",
        "\n",
        "It is important to keep in mind that the: \n",
        "-\tThe features have been normalise. \n",
        "-\tThe units used for accelerations are g’s\n",
        "-\tThe gyroscope units are rad/seg.\n",
        "\n",
        "Finally the data collected has been split into training (70%) and test (30%). \n",
        "\n"
      ]
    },
    {
      "cell_type": "markdown",
      "metadata": {
        "id": "I5YJBu77Au6E"
      },
      "source": [
        "**QUESTION 2**: Plot one example of walking, sitting, standing, and laying for a randomly chosen data sample. "
      ]
    },
    {
      "cell_type": "code",
      "metadata": {
        "id": "Q7AaAtW78Oga"
      },
      "source": [
        "#Load test and train data\n",
        "xtest = np.loadtxt(\"X_test.txt\")\n",
        "ytest = np.loadtxt(\"y_test.txt\")-1\n",
        "\n",
        "xtrain = np.loadtxt(\"X_train.txt\")\n",
        "ytrain = np.loadtxt(\"y_train.txt\")-1\n",
        "\n",
        "#Load internal signals\n",
        "xx = np.loadtxt(\"body_acc_x_test.txt\")\n",
        "yy = np.loadtxt(\"body_acc_y_test.txt\")\n",
        "zz = np.loadtxt(\"body_acc_z_test.txt\")\n"
      ],
      "execution_count": 6,
      "outputs": []
    },
    {
      "cell_type": "code",
      "metadata": {
        "id": "JaTwVH_GCD1a"
      },
      "source": [
        "#Dededuct one from each activity label so each stage is 0 index\n",
        "WALKING = 1-1\n",
        "WALKING_UPSTAIRS = 2-1\n",
        "WALKING_DOWNSTAIRS = 3-1\n",
        "SITTING = 4-1\n",
        "STANDING = 5-1\n",
        "LAYING = 6-1"
      ],
      "execution_count": 8,
      "outputs": []
    },
    {
      "cell_type": "code",
      "metadata": {
        "colab": {
          "base_uri": "https://localhost:8080/"
        },
        "id": "Mkl_hvThAqiB",
        "outputId": "6d4853ea-4caa-44a7-b0dd-63aa2213ebbc"
      },
      "source": [
        "#Print features and shape of test and train data sets \n",
        "print(np.unique(ytest))\n",
        "print('x_test = ' + str(xtest.shape))\n",
        "print('y_test = ' + str(ytest.shape))\n",
        "print('x_train = ' + str(xtrain.shape))\n",
        "print('y_train = ' + str(ytrain.shape))"
      ],
      "execution_count": 9,
      "outputs": [
        {
          "output_type": "stream",
          "name": "stdout",
          "text": [
            "[0. 1. 2. 3. 4. 5.]\n",
            "x_test = (2947, 561)\n",
            "y_test = (2947,)\n",
            "x_train = (7352, 561)\n",
            "y_train = (7352,)\n"
          ]
        }
      ]
    },
    {
      "cell_type": "code",
      "metadata": {
        "colab": {
          "base_uri": "https://localhost:8080/",
          "height": 312
        },
        "id": "AlcFKhpmBOIz",
        "outputId": "6b4d7945-16d9-4a97-e0e7-a88af0839fe7"
      },
      "source": [
        "#Plot Walking feature\n",
        "random_ts = np.random.choice(np.where(ytest==WALKING)[0])\n",
        "plt.plot(xx[random_ts])\n",
        "plt.plot(yy[random_ts])\n",
        "plt.plot(zz[random_ts])\n",
        "plt.legend((\"x\", \"y\", \"z\"), loc = \"upper right\", shadow = True)\n",
        "plt.title(\"Walking\")\n",
        "plt.xlabel(\"Time\")\n",
        "plt.ylabel(\"Body accelaration\")"
      ],
      "execution_count": 10,
      "outputs": [
        {
          "output_type": "execute_result",
          "data": {
            "text/plain": [
              "Text(0, 0.5, 'Body accelaration')"
            ]
          },
          "metadata": {},
          "execution_count": 10
        },
        {
          "output_type": "display_data",
          "data": {
            "image/png": "[encoded data removed]",
            "text/plain": [
              "<Figure size 432x288 with 1 Axes>"
            ]
          },
          "metadata": {
            "needs_background": "light"
          }
        }
      ]
    },
    {
      "cell_type": "code",
      "metadata": {
        "colab": {
          "base_uri": "https://localhost:8080/",
          "height": 312
        },
        "id": "b44HAJs-G0jJ",
        "outputId": "7b8ac2aa-2505-4818-f79d-d3831d721f5e"
      },
      "source": [
        "#Plot Sitting feature\n",
        "random_ts = np.random.choice(np.where(ytest==SITTING)[0])\n",
        "plt.plot(xx[random_ts])\n",
        "plt.plot(yy[random_ts])\n",
        "plt.plot(zz[random_ts])\n",
        "plt.legend((\"x\", \"y\", \"z\"), loc = \"upper right\", shadow = True)\n",
        "plt.title(\"Sitting\")\n",
        "plt.xlabel(\"Time\")\n",
        "plt.ylabel(\"Body accelaration\")"
      ],
      "execution_count": 11,
      "outputs": [
        {
          "output_type": "execute_result",
          "data": {
            "text/plain": [
              "Text(0, 0.5, 'Body accelaration')"
            ]
          },
          "metadata": {},
          "execution_count": 11
        },
        {
          "output_type": "display_data",
          "data": {
            "image/png": "[encoded data removed]",
            "text/plain": [
              "<Figure size 432x288 with 1 Axes>"
            ]
          },
          "metadata": {
            "needs_background": "light"
          }
        }
      ]
    },
    {
      "cell_type": "code",
      "metadata": {
        "colab": {
          "base_uri": "https://localhost:8080/",
          "height": 312
        },
        "id": "ATm_LWI1ISvJ",
        "outputId": "2942825b-2e17-4843-d119-852177c018da"
      },
      "source": [
        "#Plot Laying feature\n",
        "random_ts = np.random.choice(np.where(ytest==LAYING)[0])\n",
        "plt.plot(xx[random_ts])\n",
        "plt.plot(yy[random_ts])\n",
        "plt.plot(zz[random_ts])\n",
        "plt.legend((\"x\", \"y\", \"z\"), loc = \"upper right\", shadow = True)\n",
        "plt.title(\"Laying\")\n",
        "plt.xlabel(\"Time\")\n",
        "plt.ylabel(\"Body accelaration\")"
      ],
      "execution_count": 12,
      "outputs": [
        {
          "output_type": "execute_result",
          "data": {
            "text/plain": [
              "Text(0, 0.5, 'Body accelaration')"
            ]
          },
          "metadata": {},
          "execution_count": 12
        },
        {
          "output_type": "display_data",
          "data": {
            "image/png": "[encoded data removed]",
            "text/plain": [
              "<Figure size 432x288 with 1 Axes>"
            ]
          },
          "metadata": {
            "needs_background": "light"
          }
        }
      ]
    },
    {
      "cell_type": "markdown",
      "metadata": {
        "id": "dRKp5FmY4EX8"
      },
      "source": [
        "**QUESTION 3 & 4**: Write Tensorflow code for performing multiclass logistic regression. Train the model using Stochastic Gradient Descent. Plot the the loss over time and calculate the prediction accuracy on the training and test datasets."
      ]
    },
    {
      "cell_type": "code",
      "metadata": {
        "id": "aedf0Di44HA7"
      },
      "source": [
        "#Covert data into a tensor\n",
        "xtrain = tf.convert_to_tensor(xtrain, tf.float32)\n",
        "\n",
        "#Covert classes to categorical variables\n",
        "ytrain_categorical = tf.cast(tf.keras.utils.to_categorical(ytrain), tf.float32)"
      ],
      "execution_count": 13,
      "outputs": []
    },
    {
      "cell_type": "code",
      "metadata": {
        "colab": {
          "base_uri": "https://localhost:8080/"
        },
        "id": "yZt-sLOgjyOt",
        "outputId": "8cc65ec0-d57a-4398-d3d1-d0e396aea6a8"
      },
      "source": [
        "print('x_train = ' + str(xtrain.shape))\n",
        "print('y_train = ' + str(ytrain_categorical.shape))"
      ],
      "execution_count": 14,
      "outputs": [
        {
          "output_type": "stream",
          "name": "stdout",
          "text": [
            "x_train = (7352, 561)\n",
            "y_train = (7352, 6)\n"
          ]
        }
      ]
    },
    {
      "cell_type": "code",
      "metadata": {
        "id": "tAKRwDnNSl60"
      },
      "source": [
        "#Define the logistic regresion model\n",
        "#Initialize the weights\n",
        "W = tf.Variable(tf.zeros([561, 6]), tf.float64) \n",
        "b = tf.Variable(tf.zeros([6]), tf.float64)\n",
        "\n",
        "#Define the prediction function\n",
        "def Y_pred(X):\n",
        "  return tf.nn.softmax(tf.add(tf.matmul(X,W), b))\n"
      ],
      "execution_count": 15,
      "outputs": []
    },
    {
      "cell_type": "code",
      "metadata": {
        "id": "9JwnbWqLTp3v"
      },
      "source": [
        "#Define the loss function - Categorical cross-entropy function\n",
        "@tf.function\n",
        "def loss(y_pred, y_true):\n",
        "  y_pred = tf.clip_by_value(y_pred, 1e-9, 1,)\n",
        "  #Compute corss-entropy\n",
        "  return tf.reduce_mean(-tf.reduce_sum(y_true * tf.math.log(y_pred), axis=1))"
      ],
      "execution_count": 16,
      "outputs": []
    },
    {
      "cell_type": "code",
      "metadata": {
        "id": "U7gznnrrU2XK"
      },
      "source": [
        "#Set up the optimizer - SGD\n",
        "optimizer = tf.keras.optimizers.SGD(learning_rate = 1e-3)\n",
        "\n",
        "#Define the training function to compute prediction, loss and gradient updates\n",
        "def train(x, y):\n",
        "  with tf.GradientTape() as tape:\n",
        "    #Prediction\n",
        "    predicted = Y_pred(x)\n",
        "    #Loss\n",
        "    current_loss = loss(predicted, y)\n",
        "    #Calculate gradient\n",
        "    gradients = tape.gradient(current_loss, [W, b])\n",
        "    #Weight update\n",
        "    optimizer.apply_gradients(zip(gradients, [W, b]))\n",
        "  return current_loss"
      ],
      "execution_count": 17,
      "outputs": []
    },
    {
      "cell_type": "code",
      "metadata": {
        "colab": {
          "base_uri": "https://localhost:8080/"
        },
        "id": "Usr2SLV2We1q",
        "outputId": "a17fef18-b00e-4539-8139-65ab4cb1e6f5"
      },
      "source": [
        "#Set up paraments for the test\n",
        "n_iters = 5000\n",
        "loss_history = np.zeros(n_iters)\n",
        "\n",
        "#Train the clasifer for 5.000 epochs\n",
        "epochs = range(n_iters)\n",
        "for epoch in epochs:\n",
        "  training_loss = train(xtrain, ytrain_categorical)\n",
        "  loss_history[epoch] = training_loss.numpy()\n",
        "  if epoch%100 == 0:\n",
        "    print('Training Step:' + str(epoch) + '  Loss = ' + str(training_loss))"
      ],
      "execution_count": 18,
      "outputs": [
        {
          "output_type": "stream",
          "name": "stdout",
          "text": [
            "Training Step:0  Loss = tf.Tensor(1.7917526, shape=(), dtype=float32)\n",
            "Training Step:100  Loss = tf.Tensor(1.4607794, shape=(), dtype=float32)\n",
            "Training Step:200  Loss = tf.Tensor(1.29292, shape=(), dtype=float32)\n",
            "Training Step:300  Loss = tf.Tensor(1.1786915, shape=(), dtype=float32)\n",
            "Training Step:400  Loss = tf.Tensor(1.0939217, shape=(), dtype=float32)\n",
            "Training Step:500  Loss = tf.Tensor(1.0271488, shape=(), dtype=float32)\n",
            "Training Step:600  Loss = tf.Tensor(0.97238034, shape=(), dtype=float32)\n",
            "Training Step:700  Loss = tf.Tensor(0.9261703, shape=(), dtype=float32)\n",
            "Training Step:800  Loss = tf.Tensor(0.8863719, shape=(), dtype=float32)\n",
            "Training Step:900  Loss = tf.Tensor(0.85155886, shape=(), dtype=float32)\n",
            "Training Step:1000  Loss = tf.Tensor(0.82073325, shape=(), dtype=float32)\n",
            "Training Step:1100  Loss = tf.Tensor(0.79316825, shape=(), dtype=float32)\n",
            "Training Step:1200  Loss = tf.Tensor(0.7683174, shape=(), dtype=float32)\n",
            "Training Step:1300  Loss = tf.Tensor(0.7457581, shape=(), dtype=float32)\n",
            "Training Step:1400  Loss = tf.Tensor(0.72515714, shape=(), dtype=float32)\n",
            "Training Step:1500  Loss = tf.Tensor(0.7062473, shape=(), dtype=float32)\n",
            "Training Step:1600  Loss = tf.Tensor(0.68881077, shape=(), dtype=float32)\n",
            "Training Step:1700  Loss = tf.Tensor(0.6726671, shape=(), dtype=float32)\n",
            "Training Step:1800  Loss = tf.Tensor(0.65766597, shape=(), dtype=float32)\n",
            "Training Step:1900  Loss = tf.Tensor(0.6436807, shape=(), dtype=float32)\n",
            "Training Step:2000  Loss = tf.Tensor(0.63060325, shape=(), dtype=float32)\n",
            "Training Step:2100  Loss = tf.Tensor(0.6183417, shape=(), dtype=float32)\n",
            "Training Step:2200  Loss = tf.Tensor(0.60681564, shape=(), dtype=float32)\n",
            "Training Step:2300  Loss = tf.Tensor(0.5959562, shape=(), dtype=float32)\n",
            "Training Step:2400  Loss = tf.Tensor(0.5857029, shape=(), dtype=float32)\n",
            "Training Step:2500  Loss = tf.Tensor(0.5760025, shape=(), dtype=float32)\n",
            "Training Step:2600  Loss = tf.Tensor(0.5668079, shape=(), dtype=float32)\n",
            "Training Step:2700  Loss = tf.Tensor(0.55807793, shape=(), dtype=float32)\n",
            "Training Step:2800  Loss = tf.Tensor(0.54977536, shape=(), dtype=float32)\n",
            "Training Step:2900  Loss = tf.Tensor(0.5418674, shape=(), dtype=float32)\n",
            "Training Step:3000  Loss = tf.Tensor(0.53432417, shape=(), dtype=float32)\n",
            "Training Step:3100  Loss = tf.Tensor(0.52711934, shape=(), dtype=float32)\n",
            "Training Step:3200  Loss = tf.Tensor(0.5202287, shape=(), dtype=float32)\n",
            "Training Step:3300  Loss = tf.Tensor(0.5136305, shape=(), dtype=float32)\n",
            "Training Step:3400  Loss = tf.Tensor(0.50730526, shape=(), dtype=float32)\n",
            "Training Step:3500  Loss = tf.Tensor(0.50123477, shape=(), dtype=float32)\n",
            "Training Step:3600  Loss = tf.Tensor(0.4954028, shape=(), dtype=float32)\n",
            "Training Step:3700  Loss = tf.Tensor(0.48979452, shape=(), dtype=float32)\n",
            "Training Step:3800  Loss = tf.Tensor(0.48439592, shape=(), dtype=float32)\n",
            "Training Step:3900  Loss = tf.Tensor(0.47919458, shape=(), dtype=float32)\n",
            "Training Step:4000  Loss = tf.Tensor(0.47417906, shape=(), dtype=float32)\n",
            "Training Step:4100  Loss = tf.Tensor(0.4693386, shape=(), dtype=float32)\n",
            "Training Step:4200  Loss = tf.Tensor(0.46466354, shape=(), dtype=float32)\n",
            "Training Step:4300  Loss = tf.Tensor(0.46014452, shape=(), dtype=float32)\n",
            "Training Step:4400  Loss = tf.Tensor(0.45577323, shape=(), dtype=float32)\n",
            "Training Step:4500  Loss = tf.Tensor(0.45154187, shape=(), dtype=float32)\n",
            "Training Step:4600  Loss = tf.Tensor(0.44744322, shape=(), dtype=float32)\n",
            "Training Step:4700  Loss = tf.Tensor(0.44347048, shape=(), dtype=float32)\n",
            "Training Step:4800  Loss = tf.Tensor(0.4396173, shape=(), dtype=float32)\n",
            "Training Step:4900  Loss = tf.Tensor(0.435878, shape=(), dtype=float32)\n"
          ]
        }
      ]
    },
    {
      "cell_type": "code",
      "metadata": {
        "colab": {
          "base_uri": "https://localhost:8080/"
        },
        "id": "cdEOqu2pa89N",
        "outputId": "15bf1706-a77b-4e00-afb5-6a0929ae349d"
      },
      "source": [
        "#Training accuracy\n",
        "y_prob = Y_pred(xtrain) #Calculate the probability for each type of activity\n",
        "print(\"\\nCurrent output verctor shape (Training): \", y_prob.shape)\n",
        "print(\"\\nTraining label shape (Training): \", ytrain.shape)\n",
        "y_pred = np.argmax(y_prob, axis = 1) #Get the index of the max value for each observation\n",
        "print(\"\\nTraining accuracy: \", np.sum(y_pred == ytrain)/len(ytrain)) #Compare predicted and train value and calculate accuracy\n",
        "\n",
        "#Same as above but using the test data instead\n",
        "xtest = tf.convert_to_tensor(xtest, tf.float32)\n",
        "y_prob = Y_pred(xtest)\n",
        "print(\"\\nCurrent output verctor shape (Test): \", y_prob.shape)\n",
        "print(\"\\nTest label shape: \", ytest.shape)\n",
        "y_pred = np.argmax(y_prob, axis = 1)\n",
        "print(\"\\nTest accuracy: \", np.sum(y_pred == ytest)/len(ytest))"
      ],
      "execution_count": 19,
      "outputs": [
        {
          "output_type": "stream",
          "name": "stdout",
          "text": [
            "\n",
            "Current output verctor shape (Training):  (7352, 6)\n",
            "\n",
            "Training label shape (Training):  (7352,)\n",
            "\n",
            "Training accuracy:  0.8956746463547334\n",
            "\n",
            "Current output verctor shape (Test):  (2947, 6)\n",
            "\n",
            "Test label shape:  (2947,)\n",
            "\n",
            "Test accuracy:  0.8836104513064132\n"
          ]
        }
      ]
    },
    {
      "cell_type": "code",
      "metadata": {
        "id": "HR7sdCNJcSwQ"
      },
      "source": [
        "def accuracy(x, y):\n",
        "  y_ = Y_pred(x)\n",
        "  correct_prediction = tf.equal(tf.argmax(y, 1), tf.argmax(y_, 1))\n",
        "  #Calculate the accuracy\n",
        "  accuracy = tf.reduce_mean(tf.cast(correct_preduction), \"float\")\n",
        "  return accuracy"
      ],
      "execution_count": 20,
      "outputs": []
    },
    {
      "cell_type": "code",
      "metadata": {
        "colab": {
          "base_uri": "https://localhost:8080/",
          "height": 265
        },
        "id": "oskmJ5gBc6pL",
        "outputId": "157f2c3e-6462-417c-9645-6496ae4c0f1e"
      },
      "source": [
        "plt.plot(loss_history)\n",
        "plt.show()"
      ],
      "execution_count": 21,
      "outputs": [
        {
          "output_type": "display_data",
          "data": {
            "image/png": "[encoded data removed]",
            "text/plain": [
              "<Figure size 432x288 with 1 Axes>"
            ]
          },
          "metadata": {
            "needs_background": "light"
          }
        }
      ]
    },
    {
      "cell_type": "markdown",
      "metadata": {
        "id": "J5RhVoKdRQgL"
      },
      "source": [
        "**QUESTION 5**: Repeat the optimization task above except this time use the Adam optimizer"
      ]
    },
    {
      "cell_type": "code",
      "metadata": {
        "id": "mObcTJgCQRlP"
      },
      "source": [
        "#Define the logistic regresion model\n",
        "#Initialize the weights\n",
        "W = tf.Variable(tf.zeros([561, 6]), tf.float64)\n",
        "b = tf.Variable(tf.zeros([6]), tf.float64)\n",
        "\n",
        "#Define the prediction function\n",
        "def Y_pred(X):\n",
        "  return tf.nn.softmax(tf.add(tf.matmul(X,W), b))"
      ],
      "execution_count": 22,
      "outputs": []
    },
    {
      "cell_type": "code",
      "metadata": {
        "id": "yE2bD-taq9L5"
      },
      "source": [
        "#Define the loss function - Categorical cross-entropy function\n",
        "def loss(y_pred, y_true):\n",
        "  y_pred = tf.clip_by_value(y_pred, 1e-9, 1,)\n",
        "  #Compute corss-entropy\n",
        "  return tf.reduce_mean(-tf.reduce_sum(y_true * tf.math.log(y_pred), axis=1))"
      ],
      "execution_count": 23,
      "outputs": []
    },
    {
      "cell_type": "code",
      "metadata": {
        "id": "d6d4zAGxSK2S"
      },
      "source": [
        "#Set up the optimizer - Adam\n",
        "optimizer = tf.keras.optimizers.Adam(learning_rate = 1e-3)\n",
        "\n",
        "#Define the training function to compute prediction, loss and gradient updates\n",
        "def train(x, y):\n",
        "  with tf.GradientTape() as tape:\n",
        "    #Prediction\n",
        "    predicted = Y_pred(x)\n",
        "    #Loss\n",
        "    current_loss = loss(predicted, y)\n",
        "    #Calculate gradient\n",
        "    gradients = tape.gradient(current_loss, [W, b])\n",
        "    #Weight update\n",
        "    optimizer.apply_gradients(zip(gradients, [W, b]))\n",
        "  return current_loss"
      ],
      "execution_count": 24,
      "outputs": []
    },
    {
      "cell_type": "code",
      "metadata": {
        "colab": {
          "base_uri": "https://localhost:8080/"
        },
        "id": "ZtmGih6WSYNS",
        "outputId": "cbd4c07c-3742-4f62-be63-0b7e87dafde5"
      },
      "source": [
        "#Set up paraments for the test\n",
        "n_iters = 5000\n",
        "loss_history = np.zeros(n_iters)\n",
        "\n",
        "#Train the clasifer for 5.000 epochs\n",
        "epochs = range(n_iters)\n",
        "for epoch in epochs:\n",
        "  training_loss = train(xtrain, ytrain_categorical)\n",
        "  loss_history[epoch] = training_loss.numpy()\n",
        "  if epoch%100 == 0:\n",
        "    print('Training Step:' + str(epoch) + '  Loss = ' + str(training_loss))"
      ],
      "execution_count": 26,
      "outputs": [
        {
          "output_type": "stream",
          "name": "stdout",
          "text": [
            "Training Step:0  Loss = tf.Tensor(1.7917526, shape=(), dtype=float32)\n",
            "Training Step:100  Loss = tf.Tensor(0.47997206, shape=(), dtype=float32)\n",
            "Training Step:200  Loss = tf.Tensor(0.3141265, shape=(), dtype=float32)\n",
            "Training Step:300  Loss = tf.Tensor(0.2414277, shape=(), dtype=float32)\n",
            "Training Step:400  Loss = tf.Tensor(0.1990657, shape=(), dtype=float32)\n",
            "Training Step:500  Loss = tf.Tensor(0.17079064, shape=(), dtype=float32)\n",
            "Training Step:600  Loss = tf.Tensor(0.15035324, shape=(), dtype=float32)\n",
            "Training Step:700  Loss = tf.Tensor(0.13477644, shape=(), dtype=float32)\n",
            "Training Step:800  Loss = tf.Tensor(0.12244324, shape=(), dtype=float32)\n",
            "Training Step:900  Loss = tf.Tensor(0.11239385, shape=(), dtype=float32)\n",
            "Training Step:1000  Loss = tf.Tensor(0.104020394, shape=(), dtype=float32)\n",
            "Training Step:1100  Loss = tf.Tensor(0.09691784, shape=(), dtype=float32)\n",
            "Training Step:1200  Loss = tf.Tensor(0.09080525, shape=(), dtype=float32)\n",
            "Training Step:1300  Loss = tf.Tensor(0.085481174, shape=(), dtype=float32)\n",
            "Training Step:1400  Loss = tf.Tensor(0.08079693, shape=(), dtype=float32)\n",
            "Training Step:1500  Loss = tf.Tensor(0.076640114, shape=(), dtype=float32)\n",
            "Training Step:1600  Loss = tf.Tensor(0.07292382, shape=(), dtype=float32)\n",
            "Training Step:1700  Loss = tf.Tensor(0.069579616, shape=(), dtype=float32)\n",
            "Training Step:1800  Loss = tf.Tensor(0.06655266, shape=(), dtype=float32)\n",
            "Training Step:1900  Loss = tf.Tensor(0.063798465, shape=(), dtype=float32)\n",
            "Training Step:2000  Loss = tf.Tensor(0.06128054, shape=(), dtype=float32)\n",
            "Training Step:2100  Loss = tf.Tensor(0.058968585, shape=(), dtype=float32)\n",
            "Training Step:2200  Loss = tf.Tensor(0.05683727, shape=(), dtype=float32)\n",
            "Training Step:2300  Loss = tf.Tensor(0.054865267, shape=(), dtype=float32)\n",
            "Training Step:2400  Loss = tf.Tensor(0.05303447, shape=(), dtype=float32)\n",
            "Training Step:2500  Loss = tf.Tensor(0.05132942, shape=(), dtype=float32)\n",
            "Training Step:2600  Loss = tf.Tensor(0.04973681, shape=(), dtype=float32)\n",
            "Training Step:2700  Loss = tf.Tensor(0.048245203, shape=(), dtype=float32)\n",
            "Training Step:2800  Loss = tf.Tensor(0.046844617, shape=(), dtype=float32)\n",
            "Training Step:2900  Loss = tf.Tensor(0.04552638, shape=(), dtype=float32)\n",
            "Training Step:3000  Loss = tf.Tensor(0.044282857, shape=(), dtype=float32)\n",
            "Training Step:3100  Loss = tf.Tensor(0.043107364, shape=(), dtype=float32)\n",
            "Training Step:3200  Loss = tf.Tensor(0.04199399, shape=(), dtype=float32)\n",
            "Training Step:3300  Loss = tf.Tensor(0.04093747, shape=(), dtype=float32)\n",
            "Training Step:3400  Loss = tf.Tensor(0.039933152, shape=(), dtype=float32)\n",
            "Training Step:3500  Loss = tf.Tensor(0.03897687, shape=(), dtype=float32)\n",
            "Training Step:3600  Loss = tf.Tensor(0.038064897, shape=(), dtype=float32)\n",
            "Training Step:3700  Loss = tf.Tensor(0.037193865, shape=(), dtype=float32)\n",
            "Training Step:3800  Loss = tf.Tensor(0.036360763, shape=(), dtype=float32)\n",
            "Training Step:3900  Loss = tf.Tensor(0.035562858, shape=(), dtype=float32)\n",
            "Training Step:4000  Loss = tf.Tensor(0.034797672, shape=(), dtype=float32)\n",
            "Training Step:4100  Loss = tf.Tensor(0.034062948, shape=(), dtype=float32)\n",
            "Training Step:4200  Loss = tf.Tensor(0.03335665, shape=(), dtype=float32)\n",
            "Training Step:4300  Loss = tf.Tensor(0.032676917, shape=(), dtype=float32)\n",
            "Training Step:4400  Loss = tf.Tensor(0.032022018, shape=(), dtype=float32)\n",
            "Training Step:4500  Loss = tf.Tensor(0.03139168, shape=(), dtype=float32)\n",
            "Training Step:4600  Loss = tf.Tensor(0.03078682, shape=(), dtype=float32)\n",
            "Training Step:4700  Loss = tf.Tensor(0.030202284, shape=(), dtype=float32)\n",
            "Training Step:4800  Loss = tf.Tensor(0.02963922, shape=(), dtype=float32)\n",
            "Training Step:4900  Loss = tf.Tensor(0.029095938, shape=(), dtype=float32)\n"
          ]
        }
      ]
    },
    {
      "cell_type": "code",
      "metadata": {
        "colab": {
          "base_uri": "https://localhost:8080/"
        },
        "id": "x86OXwjXh4O1",
        "outputId": "c7e4639c-b50e-481e-d947-f00e188120b5"
      },
      "source": [
        "#Training accuracy\n",
        "y_prob = Y_pred(xtrain)\n",
        "print(\"\\nCurrent output verctor shape (Training): \", y_prob.shape)\n",
        "print(\"\\nTraining label shape (Training): \", ytrain.shape)\n",
        "y_pred = np.argmax(y_prob, axis = 1)\n",
        "print(\"\\nTraining accuracy: \", np.sum(y_pred == ytrain)/len(ytrain))\n",
        "\n",
        "#Test accuracy\n",
        "xtest = tf.convert_to_tensor(xtest, tf.float32)\n",
        "y_prob = Y_pred(xtest)\n",
        "print(\"\\nCurrent output verctor shape (Test): \", y_prob.shape)\n",
        "print(\"\\nTest label shape: \", ytest.shape)\n",
        "y_pred = np.argmax(y_prob, axis = 1)\n",
        "print(\"\\nTest accuracy: \", np.sum(y_pred == ytest)/len(ytest))"
      ],
      "execution_count": 27,
      "outputs": [
        {
          "output_type": "stream",
          "name": "stdout",
          "text": [
            "\n",
            "Current output verctor shape (Training):  (7352, 6)\n",
            "\n",
            "Training label shape (Training):  (7352,)\n",
            "\n",
            "Training accuracy:  0.9911588683351469\n",
            "\n",
            "Current output verctor shape (Test):  (2947, 6)\n",
            "\n",
            "Test label shape:  (2947,)\n",
            "\n",
            "Test accuracy:  0.9558873430607397\n"
          ]
        }
      ]
    },
    {
      "cell_type": "code",
      "metadata": {
        "id": "ozMQU70fiGhl"
      },
      "source": [
        "def accuracy(x, y):\n",
        "  y_ = Y_pred(x)\n",
        "  correct_prediction = tf.equal(tf.argmax(y, 1), tf.argmax(y_, 1))\n",
        "  #Calculate the accuracy\n",
        "  accuracy = tf.reduce_mean(tf.cast(correct_preduction), \"float\")\n",
        "  return accuracy"
      ],
      "execution_count": 28,
      "outputs": []
    },
    {
      "cell_type": "code",
      "metadata": {
        "colab": {
          "base_uri": "https://localhost:8080/",
          "height": 265
        },
        "id": "TxHE7tYNiJ5f",
        "outputId": "794ba8ab-b081-4afc-8d92-b49f8d79d35f"
      },
      "source": [
        "plt.plot(loss_history)\n",
        "plt.show()"
      ],
      "execution_count": 29,
      "outputs": [
        {
          "output_type": "display_data",
          "data": {
            "image/png": "[encoded data removed]",
            "text/plain": [
              "<Figure size 432x288 with 1 Axes>"
            ]
          },
          "metadata": {
            "needs_background": "light"
          }
        }
      ]
    },
    {
      "cell_type": "markdown",
      "metadata": {
        "id": "wWWE71m1RZGD"
      },
      "source": [
        "**QUESTION 6**: Explain the differences you observe between the two different optimizers"
      ]
    },
    {
      "cell_type": "markdown",
      "metadata": {
        "id": "GoGq7P-d0oke"
      },
      "source": [
        "The Adam optimizer performs better than the SGD optimizer in both train and test data sets. With SGD, we obtain 89% and 88% accuracy, respectively, while with Adam, the accuracy increases to 99% on the test data and 95% on the train data. Also, from the plot of the loss function, we can see that the model with the Adam optimizer is able to learn much quicker compared to the model that uses the SGD optimizer with the loss plateauing after 2000 iterations, while for SGD after 5000 iterations, it seems the model can further reduce the loss. "
      ]
    },
    {
      "cell_type": "markdown",
      "metadata": {
        "id": "iJPOisQeU3Ww"
      },
      "source": [
        "**QUESTION 7 & 8**: find the 50 features for each class that have the largest absolute value weights and optimize the model using the features you’ve found"
      ]
    },
    {
      "cell_type": "code",
      "metadata": {
        "id": "6DpvcvP8U5sH",
        "colab": {
          "base_uri": "https://localhost:8080/"
        },
        "outputId": "39cf9dde-c1ac-4183-b6ba-b6fda880ed4f"
      },
      "source": [
        "#Select 50 features for each class that have the largest absolute value weights\n",
        "aa, bb = tf.math.top_k(tf.linalg.matrix_transpose(tf.math.abs(W)), k = 50)\n",
        "bb = tf.reshape(bb, [-1])\n",
        "cc, _ = tf.unique(bb)\n",
        "n_feat = cc.shape[0]\n",
        "tf.sort(cc, axis = -1, direction = \"ASCENDING\", name = None)"
      ],
      "execution_count": 30,
      "outputs": [
        {
          "output_type": "execute_result",
          "data": {
            "text/plain": [
              "<tf.Tensor: shape=(145,), dtype=int32, numpy=\n",
              "array([  0,   1,   2,  22,  23,  24,  26,  27,  28,  32,  35,  36,  37,\n",
              "        38,  39,  40,  41,  49,  50,  52,  53,  55,  56,  57,  58,  62,\n",
              "        63,  64,  65,  66,  80,  81,  82,  89,  90,  92,  93,  94, 104,\n",
              "       106, 107, 108, 109, 111, 114, 115, 117, 118, 119, 120, 121, 122,\n",
              "       132, 141, 142, 143, 145, 146, 147, 148, 149, 151, 152, 156, 157,\n",
              "       158, 159, 160, 161, 162, 166, 169, 171, 179, 181, 182, 183, 185,\n",
              "       186, 187, 188, 189, 190, 191, 192, 194, 197, 198, 199, 201, 202,\n",
              "       203, 214, 215, 216, 233, 235, 237, 238, 243, 246, 247, 249, 250,\n",
              "       251, 261, 262, 263, 264, 275, 294, 296, 371, 376, 433, 445, 446,\n",
              "       449, 450, 451, 452, 453, 454, 455, 458, 459, 474, 489, 502, 503,\n",
              "       504, 505, 507, 512, 513, 525, 526, 527, 537, 551, 552, 553, 555,\n",
              "       558, 559], dtype=int32)>"
            ]
          },
          "metadata": {},
          "execution_count": 30
        }
      ]
    },
    {
      "cell_type": "code",
      "metadata": {
        "id": "ew3QTv9soUpn",
        "colab": {
          "base_uri": "https://localhost:8080/"
        },
        "outputId": "29d38940-4152-4e21-8c55-12fc92bd37e4"
      },
      "source": [
        "features = np.loadtxt(\"features.txt\", dtype = np.object)\n",
        "\n",
        "for i in cc.numpy():\n",
        "  print(features[i,1])"
      ],
      "execution_count": 31,
      "outputs": [
        {
          "output_type": "stream",
          "name": "stdout",
          "text": [
            "tBodyAcc-mean()-Y\n",
            "tBodyGyroJerk-correlation()-X,Z\n",
            "tBodyGyroJerk-correlation()-X,Y\n",
            "tBodyAccJerk-arCoeff()-X,4\n",
            "tBodyGyroJerkMag-arCoeff()1\n",
            "tBodyAccJerk-correlation()-X,Z\n",
            "tBodyAcc-correlation()-X,Y\n",
            "tBodyAccJerk-correlation()-X,Y\n",
            "tBodyAccJerkMag-arCoeff()3\n",
            "tBodyGyro-mean()-Z\n",
            "tBodyGyroJerk-correlation()-Y,Z\n",
            "fBodyGyro-maxInds-Z\n",
            "tBodyGyro-iqr()-Z\n",
            "tGravityAcc-entropy()-X\n",
            "tBodyGyro-correlation()-X,Y\n",
            "tBodyAccJerk-mean()-X\n",
            "tBodyGyroMag-arCoeff()4\n",
            "fBodyAccJerk-maxInds-Z\n",
            "tBodyGyroMag-arCoeff()3\n",
            "tBodyGyroJerkMag-arCoeff()3\n",
            "tBodyGyro-correlation()-Y,Z\n",
            "fBodyBodyGyroMag-maxInds\n",
            "tBodyAcc-arCoeff()-X,4\n",
            "tBodyAccMag-std()\n",
            "tGravityAccMag-std()\n",
            "tBodyGyro-entropy()-Y\n",
            "tBodyGyro-min()-X\n",
            "fBodyAccMag-mean()\n",
            "fBodyAccMag-sma()\n",
            "fBodyAcc-skewness()-X\n",
            "fBodyAccMag-std()\n",
            "tGravityAcc-arCoeff()-X,1\n",
            "tBodyAccMag-max()\n",
            "tGravityAccMag-max()\n",
            "fBodyGyro-max()-Y\n",
            "tBodyAcc-correlation()-Y,Z\n",
            "fBodyGyro-maxInds-Y\n",
            "fBodyAccMag-mad()\n",
            "tBodyGyro-correlation()-X,Z\n",
            "fBodyGyro-bandsEnergy()-1,8\n",
            "tBodyAccMag-mad()\n",
            "tGravityAccMag-mad()\n",
            "fBodyAccMag-max()\n",
            "tBodyAccJerk-arCoeff()-X,2\n",
            "tGravityAcc-arCoeff()-X,2\n",
            "tBodyAccJerk-correlation()-Y,Z\n",
            "tBodyAcc-correlation()-X,Z\n",
            "tBodyAccJerk-min()-Z\n",
            "tBodyGyro-arCoeff()-X,4\n",
            "tBodyGyroJerk-iqr()-Z\n",
            "tBodyGyro-arCoeff()-Z,4\n",
            "tBodyGyroJerk-mean()-Y\n",
            "tBodyGyroJerk-arCoeff()-Y,2\n",
            "tBodyAccJerk-min()-X\n",
            "tBodyGyroJerk-arCoeff()-Y,4\n",
            "tBodyAccJerk-max()-X\n",
            "tBodyAcc-mean()-Z\n",
            "tBodyGyroJerk-arCoeff()-Z,2\n",
            "tBodyGyroJerk-arCoeff()-X,2\n",
            "tBodyGyroJerk-arCoeff()-X,3\n",
            "tBodyGyro-arCoeff()-Y,4\n",
            "tBodyAcc-entropy()-Z\n",
            "tBodyGyroJerk-max()-Z\n",
            "tGravityAcc-sma()\n",
            "tBodyGyroJerk-max()-X\n",
            "fBodyGyro-kurtosis()-Z\n",
            "tBodyAccJerk-arCoeff()-Z,2\n",
            "fBodyAccMag-skewness()\n",
            "tGravityAcc-energy()-Y\n",
            "fBodyBodyAccJerkMag-skewness()\n",
            "tBodyAccJerk-min()-Y\n",
            "tBodyGyro-arCoeff()-X,3\n",
            "fBodyGyro-skewness()-Z\n",
            "angle(X,gravityMean)\n",
            "tBodyGyroJerk-iqr()-X\n",
            "tBodyAccJerk-max()-Y\n",
            "tBodyAcc-arCoeff()-Y,4\n",
            "tGravityAcc-max()-Y\n",
            "tBodyGyroJerk-mean()-Z\n",
            "tBodyAccJerkMag-iqr()\n",
            "tGravityAcc-mean()-Y\n",
            "tBodyGyro-entropy()-X\n",
            "fBodyBodyAccJerkMag-kurtosis()\n",
            "angle(Y,gravityMean)\n",
            "tBodyAcc-arCoeff()-Z,4\n",
            "tBodyAccJerk-arCoeff()-Z,3\n",
            "tBodyGyro-arCoeff()-Y,3\n",
            "fBodyAcc-meanFreq()-Y\n",
            "fBodyAccMag-meanFreq()\n",
            "tBodyAcc-entropy()-X\n",
            "tBodyAccJerkMag-arCoeff()4\n",
            "tBodyAcc-arCoeff()-X,3\n",
            "fBodyGyro-meanFreq()-X\n",
            "fBodyBodyGyroJerkMag-skewness()\n",
            "tGravityAcc-min()-Y\n",
            "tBodyGyroJerk-arCoeff()-Y,1\n",
            "tBodyAcc-arCoeff()-Z,3\n",
            "fBodyAccJerk-kurtosis()-X\n",
            "tBodyAcc-arCoeff()-X,2\n",
            "tBodyGyroJerk-arCoeff()-X,1\n",
            "fBodyAcc-max()-Y\n",
            "tBodyAcc-mean()-X\n",
            "fBodyBodyGyroJerkMag-kurtosis()\n",
            "tBodyGyro-arCoeff()-Y,1\n",
            "tBodyGyroJerk-mad()-X\n",
            "fBodyGyro-bandsEnergy()-9,16\n",
            "tBodyGyro-mean()-Y\n",
            "tBodyGyroJerk-entropy()-X\n",
            "tBodyGyroJerk-arCoeff()-Y,3\n",
            "tBodyAccJerk-arCoeff()-Y,3\n",
            "fBodyGyro-entropy()-X\n",
            "tBodyGyro-arCoeff()-X,1\n",
            "tGravityAcc-min()-X\n",
            "tGravityAcc-mean()-X\n",
            "tGravityAcc-max()-X\n",
            "tGravityAcc-energy()-X\n",
            "tBodyGyroMag-min()\n",
            "tGravityAcc-entropy()-Y\n",
            "tBodyGyroJerkMag-arCoeff()2\n",
            "tBodyGyroJerkMag-arCoeff()4\n",
            "tBodyGyroMag-iqr()\n",
            "tBodyGyroJerk-entropy()-Y\n",
            "tBodyAccJerk-mean()-Y\n",
            "fBodyGyro-kurtosis()-X\n",
            "fBodyGyro-skewness()-X\n",
            "tGravityAcc-energy()-Z\n",
            "tBodyAccJerk-arCoeff()-Y,1\n",
            "tBodyAccJerk-entropy()-Z\n",
            "tBodyGyro-arCoeff()-X,2\n",
            "tBodyGyroMag-entropy()\n",
            "fBodyBodyAccJerkMag-meanFreq()\n",
            "tBodyGyro-mean()-X\n",
            "tBodyAccJerk-mean()-Z\n",
            "tGravityAcc-entropy()-Z\n",
            "tBodyAccJerkMag-arCoeff()1\n",
            "tBodyAcc-entropy()-Y\n",
            "fBodyGyro-entropy()-Y\n",
            "fBodyGyro-meanFreq()-Z\n",
            "fBodyBodyGyroJerkMag-meanFreq()\n",
            "fBodyGyro-meanFreq()-Y\n",
            "tBodyGyroMag-arCoeff()2\n",
            "tBodyGyroJerk-mean()-X\n",
            "tBodyGyroJerk-arCoeff()-X,4\n",
            "tBodyAccJerk-arCoeff()-X,3\n",
            "angle(tBodyAccJerkMean),gravityMean)\n"
          ]
        }
      ]
    },
    {
      "cell_type": "code",
      "metadata": {
        "id": "bXwlrvvdo0xf",
        "colab": {
          "base_uri": "https://localhost:8080/"
        },
        "outputId": "a925941b-5776-4695-b0a0-22f96ee14ba2"
      },
      "source": [
        "#Select train and test data based on top 50 features\n",
        "x_train_50 = tf.gather(xtrain, cc, axis = 1)\n",
        "x_test_50 = tf.gather(xtest, cc, axis = 1)\n",
        "x_test_50"
      ],
      "execution_count": 32,
      "outputs": [
        {
          "output_type": "execute_result",
          "data": {
            "text/plain": [
              "<tf.Tensor: shape=(2947, 145), dtype=float32, numpy=\n",
              "array([[-0.02328523, -0.15534633,  0.12400875, ...,  0.30447876,\n",
              "         0.49172843,  0.16291982],\n",
              "       [-0.01316336, -0.17115207,  0.28485042, ..., -0.25754482,\n",
              "         0.23919281,  0.01749957],\n",
              "       [-0.02605042, -0.17700262,  0.16167165, ...,  0.1419333 ,\n",
              "         0.08525316,  0.20230202],\n",
              "       ...,\n",
              "       [ 0.03007744, -0.0140846 ,  0.11403496, ..., -0.15456198,\n",
              "         0.24711934,  0.08857407],\n",
              "       [ 0.01846687,  0.12001437, -0.24816412, ..., -0.03687556,\n",
              "         0.29352066, -0.8191877 ],\n",
              "       [-0.01843651, -0.02830341, -0.4560287 , ...,  0.17337222,\n",
              "         0.03821483, -0.28795066]], dtype=float32)>"
            ]
          },
          "metadata": {},
          "execution_count": 32
        }
      ]
    },
    {
      "cell_type": "code",
      "metadata": {
        "id": "9dyuFI7cqpA7"
      },
      "source": [
        "#Define the logistic regresion model\n",
        "#Initialize the weights\n",
        "W = tf.Variable(tf.zeros([n_feat, 6]), tf.float64)\n",
        "b = tf.Variable(tf.zeros([6]), tf.float64)\n",
        "\n",
        "def Y_pred(X):\n",
        "  return tf.nn.softmax(tf.add(tf.matmul(X,W), b))\n"
      ],
      "execution_count": 33,
      "outputs": []
    },
    {
      "cell_type": "code",
      "metadata": {
        "id": "YGfRgG3Pq_cI"
      },
      "source": [
        "#Define the loss function - Categorical cross-entropy function\n",
        "def loss(y_pred, y_true):\n",
        "  y_pred = tf.clip_by_value(y_pred, 1e-9, 1.)\n",
        "  #Compute corss-entropy\n",
        "  return tf.reduce_mean(-tf.reduce_sum(y_true * tf.math.log(y_pred), axis=1))"
      ],
      "execution_count": 34,
      "outputs": []
    },
    {
      "cell_type": "code",
      "metadata": {
        "id": "tsdPYd0OrD1o"
      },
      "source": [
        "#Set up the optimizer - Adam\n",
        "optimizer = tf.keras.optimizers.Adam(learning_rate = 1e-3)\n",
        "\n",
        "#Define the training function to compute prediction, loss and gradient updates\n",
        "def train(x, y):\n",
        "  with tf.GradientTape() as tape:\n",
        "    #Prediction\n",
        "    predicted = Y_pred(x)\n",
        "    #Loss\n",
        "    current_loss = loss(predicted, y)\n",
        "    #Calculate gradient\n",
        "    gradients = tape.gradient(current_loss, [W, b])\n",
        "    #Weight update\n",
        "    optimizer.apply_gradients(zip(gradients, [W, b]))\n",
        "  return current_loss"
      ],
      "execution_count": 35,
      "outputs": []
    },
    {
      "cell_type": "code",
      "metadata": {
        "colab": {
          "base_uri": "https://localhost:8080/"
        },
        "id": "jZ85YGw6rG9Z",
        "outputId": "e7f60e0f-185b-482b-9896-fc7861d5b735"
      },
      "source": [
        "#Set up paraments for the test\n",
        "n_iters = 5000\n",
        "\n",
        "loss_history = np.zeros(n_iters)\n",
        "\n",
        "#Train the clasifer for 5.000 epochs\n",
        "epochs = range(n_iters)\n",
        "for epoch in epochs:\n",
        "  training_loss = train(x_train_50, ytrain_categorical)\n",
        "  loss_history[epoch] = training_loss.numpy()\n",
        "  if epoch%100 == 0:\n",
        "    print('Training Step:' + str(epoch) + '  Loss = ' + str(training_loss))"
      ],
      "execution_count": 36,
      "outputs": [
        {
          "output_type": "stream",
          "name": "stdout",
          "text": [
            "Training Step:0  Loss = tf.Tensor(1.7917526, shape=(), dtype=float32)\n",
            "Training Step:100  Loss = tf.Tensor(0.8044601, shape=(), dtype=float32)\n",
            "Training Step:200  Loss = tf.Tensor(0.5274935, shape=(), dtype=float32)\n",
            "Training Step:300  Loss = tf.Tensor(0.39733195, shape=(), dtype=float32)\n",
            "Training Step:400  Loss = tf.Tensor(0.3219607, shape=(), dtype=float32)\n",
            "Training Step:500  Loss = tf.Tensor(0.27243796, shape=(), dtype=float32)\n",
            "Training Step:600  Loss = tf.Tensor(0.23715258, shape=(), dtype=float32)\n",
            "Training Step:700  Loss = tf.Tensor(0.21060619, shape=(), dtype=float32)\n",
            "Training Step:800  Loss = tf.Tensor(0.18985085, shape=(), dtype=float32)\n",
            "Training Step:900  Loss = tf.Tensor(0.17315073, shape=(), dtype=float32)\n",
            "Training Step:1000  Loss = tf.Tensor(0.15940896, shape=(), dtype=float32)\n",
            "Training Step:1100  Loss = tf.Tensor(0.14789452, shape=(), dtype=float32)\n",
            "Training Step:1200  Loss = tf.Tensor(0.13809964, shape=(), dtype=float32)\n",
            "Training Step:1300  Loss = tf.Tensor(0.12966008, shape=(), dtype=float32)\n",
            "Training Step:1400  Loss = tf.Tensor(0.12230741, shape=(), dtype=float32)\n",
            "Training Step:1500  Loss = tf.Tensor(0.115839414, shape=(), dtype=float32)\n",
            "Training Step:1600  Loss = tf.Tensor(0.110100895, shape=(), dtype=float32)\n",
            "Training Step:1700  Loss = tf.Tensor(0.10497071, shape=(), dtype=float32)\n",
            "Training Step:1800  Loss = tf.Tensor(0.10035302, shape=(), dtype=float32)\n",
            "Training Step:1900  Loss = tf.Tensor(0.09617097, shape=(), dtype=float32)\n",
            "Training Step:2000  Loss = tf.Tensor(0.0923623, shape=(), dtype=float32)\n",
            "Training Step:2100  Loss = tf.Tensor(0.08887601, shape=(), dtype=float32)\n",
            "Training Step:2200  Loss = tf.Tensor(0.08567003, shape=(), dtype=float32)\n",
            "Training Step:2300  Loss = tf.Tensor(0.08270926, shape=(), dtype=float32)\n",
            "Training Step:2400  Loss = tf.Tensor(0.07996429, shape=(), dtype=float32)\n",
            "Training Step:2500  Loss = tf.Tensor(0.07741022, shape=(), dtype=float32)\n",
            "Training Step:2600  Loss = tf.Tensor(0.07502593, shape=(), dtype=float32)\n",
            "Training Step:2700  Loss = tf.Tensor(0.072793365, shape=(), dtype=float32)\n",
            "Training Step:2800  Loss = tf.Tensor(0.07069695, shape=(), dtype=float32)\n",
            "Training Step:2900  Loss = tf.Tensor(0.06872327, shape=(), dtype=float32)\n",
            "Training Step:3000  Loss = tf.Tensor(0.06686065, shape=(), dtype=float32)\n",
            "Training Step:3100  Loss = tf.Tensor(0.06509895, shape=(), dtype=float32)\n",
            "Training Step:3200  Loss = tf.Tensor(0.063429244, shape=(), dtype=float32)\n",
            "Training Step:3300  Loss = tf.Tensor(0.061843697, shape=(), dtype=float32)\n",
            "Training Step:3400  Loss = tf.Tensor(0.060335435, shape=(), dtype=float32)\n",
            "Training Step:3500  Loss = tf.Tensor(0.05889832, shape=(), dtype=float32)\n",
            "Training Step:3600  Loss = tf.Tensor(0.05752692, shape=(), dtype=float32)\n",
            "Training Step:3700  Loss = tf.Tensor(0.056216408, shape=(), dtype=float32)\n",
            "Training Step:3800  Loss = tf.Tensor(0.05496245, shape=(), dtype=float32)\n",
            "Training Step:3900  Loss = tf.Tensor(0.05376117, shape=(), dtype=float32)\n",
            "Training Step:4000  Loss = tf.Tensor(0.05260907, shape=(), dtype=float32)\n",
            "Training Step:4100  Loss = tf.Tensor(0.051503, shape=(), dtype=float32)\n",
            "Training Step:4200  Loss = tf.Tensor(0.050440118, shape=(), dtype=float32)\n",
            "Training Step:4300  Loss = tf.Tensor(0.049417857, shape=(), dtype=float32)\n",
            "Training Step:4400  Loss = tf.Tensor(0.04843385, shape=(), dtype=float32)\n",
            "Training Step:4500  Loss = tf.Tensor(0.047485963, shape=(), dtype=float32)\n",
            "Training Step:4600  Loss = tf.Tensor(0.04657224, shape=(), dtype=float32)\n",
            "Training Step:4700  Loss = tf.Tensor(0.04569089, shape=(), dtype=float32)\n",
            "Training Step:4800  Loss = tf.Tensor(0.04484026, shape=(), dtype=float32)\n",
            "Training Step:4900  Loss = tf.Tensor(0.044018816, shape=(), dtype=float32)\n"
          ]
        }
      ]
    },
    {
      "cell_type": "code",
      "metadata": {
        "colab": {
          "base_uri": "https://localhost:8080/"
        },
        "id": "rOrLmfKJsPUL",
        "outputId": "549ab4e0-2219-4ea4-f269-c8b6f65b121d"
      },
      "source": [
        "#Training accuracy\n",
        "y_prob = Y_pred(x_train_50)\n",
        "print(\"\\nCurrent output verctor shape (Training): \", y_prob.shape)\n",
        "print(\"\\nTraining label shape (Training): \", ytrain.shape)\n",
        "y_pred = np.argmax(y_prob, axis = 1)\n",
        "print(\"\\nTraining accuracy: \", np.sum(y_pred == ytrain)/len(ytrain))\n",
        "\n",
        "#Test accuracy\n",
        "xtest = tf.convert_to_tensor(xtest, tf.float32)\n",
        "y_prob = Y_pred(x_test_50)\n",
        "print(\"\\nCurrent output verctor shape (Test): \", y_prob.shape)\n",
        "print(\"\\nTest label shape: \", ytest.shape)\n",
        "y_pred = np.argmax(y_prob, axis = 1)\n",
        "print(\"\\nTest accuracy: \", np.sum(y_pred == ytest)/len(ytest))"
      ],
      "execution_count": 37,
      "outputs": [
        {
          "output_type": "stream",
          "name": "stdout",
          "text": [
            "\n",
            "Current output verctor shape (Training):  (7352, 6)\n",
            "\n",
            "Training label shape (Training):  (7352,)\n",
            "\n",
            "Training accuracy:  0.9868063112078346\n",
            "\n",
            "Current output verctor shape (Test):  (2947, 6)\n",
            "\n",
            "Test label shape:  (2947,)\n",
            "\n",
            "Test accuracy:  0.9345096708517137\n"
          ]
        }
      ]
    },
    {
      "cell_type": "code",
      "metadata": {
        "colab": {
          "base_uri": "https://localhost:8080/",
          "height": 265
        },
        "id": "o8dHszuWsfU2",
        "outputId": "c896444c-a69d-4790-9c0b-0fb9ab021e3f"
      },
      "source": [
        "plt.plot(loss_history)\n",
        "plt.show()"
      ],
      "execution_count": 38,
      "outputs": [
        {
          "output_type": "display_data",
          "data": {
            "image/png": "[encoded data removed]",
            "text/plain": [
              "<Figure size 432x288 with 1 Axes>"
            ]
          },
          "metadata": {
            "needs_background": "light"
          }
        }
      ]
    }
  ]
}